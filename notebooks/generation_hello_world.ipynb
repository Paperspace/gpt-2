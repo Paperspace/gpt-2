{
 "cells": [
  {
   "cell_type": "markdown",
   "metadata": {},
   "source": [
    "# aitextgen Generation Hello World\n",
    "\n",
    "by Max Woolf\n",
    "\n",
    "A \"Hello World\" Tutorial to show how generation works with aitextgen!"
   ]
  },
  {
   "cell_type": "code",
   "execution_count": 1,
   "metadata": {},
   "outputs": [],
   "source": [
    "from aitextgen import aitextgen"
   ]
  },
  {
   "cell_type": "markdown",
   "metadata": {},
   "source": [
    "Without any parameters, `aitextgen()` will download, cache, and load the 124M \"small\" form of GPT-2 (~500MB on disk) to `/aitextgen`; good for prototyping generation.\n",
    "\n",
    "You can change the directory the model is saved/loaded from by setting the `cache_dir` parameter."
   ]
  },
  {
   "cell_type": "code",
   "execution_count": 2,
   "metadata": {},
   "outputs": [
    {
     "name": "stderr",
     "output_type": "stream",
     "text": [
      "INFO:aitextgen:Downloading gpt2 model to /aitextgen.\n"
     ]
    },
    {
     "data": {
      "application/vnd.jupyter.widget-view+json": {
       "model_id": "9e7cd607cff64008a912328d849c2873",
       "version_major": 2,
       "version_minor": 0
      },
      "text/plain": [
       "HBox(children=(FloatProgress(value=0.0, description='Downloading', max=665.0, style=ProgressStyle(description_…"
      ]
     },
     "metadata": {},
     "output_type": "display_data"
    },
    {
     "name": "stdout",
     "output_type": "stream",
     "text": [
      "\n"
     ]
    },
    {
     "data": {
      "application/vnd.jupyter.widget-view+json": {
       "model_id": "f6028b30217e4ee9972eaf8611487eee",
       "version_major": 2,
       "version_minor": 0
      },
      "text/plain": [
       "HBox(children=(FloatProgress(value=0.0, description='Downloading', max=548118077.0, style=ProgressStyle(descri…"
      ]
     },
     "metadata": {},
     "output_type": "display_data"
    },
    {
     "name": "stdout",
     "output_type": "stream",
     "text": [
      "\n"
     ]
    },
    {
     "name": "stderr",
     "output_type": "stream",
     "text": [
      "INFO:aitextgen:Using the default GPT-2 Tokenizer.\n"
     ]
    }
   ],
   "source": [
    "ai = aitextgen()"
   ]
  },
  {
   "cell_type": "code",
   "execution_count": 3,
   "metadata": {},
   "outputs": [
    {
     "name": "stdout",
     "output_type": "stream",
     "text": [
      "\n",
      "The New York Times and Reuters contributed to this report.\n",
      "\n",
      "Washington is a city where you go to sleep at night — and where you have to wake up early to go back to sleep. If you're not sure where you want to go to sleep, it's easy to forget how to sleep in a city that has become a destination for tourists.\n",
      "\n",
      "The New York Times and Reuters contributed to this report.\n",
      "\n",
      "In 2010, American Airlines canceled an entire year of flights on the way to Washington, D.C. because of a \"deliberate, deliberate and deliberate failure,\" according to an industry official who has worked for the airline.\n",
      "\n",
      "The New York Times and Reuters contributed to this report.\n",
      "\n",
      "The Washington Post and The Washington Post contributed to this report.\n",
      "\n",
      "On September 23, the New York Times asked the U.S. Department of Transportation to investigate whether a group of airlines — American and Delta — were using the New York-bound flights to make a profit.\n",
      "\n",
      "The DOT would not say what the company did or why it was doing it, but the paper's report notes that the group, which included Delta, was using the flights to make a profit of $3,831 for each of the two\n"
     ]
    }
   ],
   "source": [
    "ai.generate()"
   ]
  },
  {
   "cell_type": "markdown",
   "metadata": {},
   "source": [
    "You can generate multiple texts at a time with the `n` parameter. You can also control the length of the generated text with the `max_length` parameter (default 200 tokens)"
   ]
  },
  {
   "cell_type": "code",
   "execution_count": 4,
   "metadata": {},
   "outputs": [
    {
     "name": "stdout",
     "output_type": "stream",
     "text": [
      "As a result, he was \"a hero of the West.\"\n",
      "\n",
      "As a result, he was \"a hero of the West.\"\n",
      "\n",
      "But he has been a victim of a \"chill out\" in his own community, who \"often use the word 'bad boy,'\" a spokesman for the group, which represents the thousands of African-Americans who own large tracts of land, said last week.\n",
      "\n",
      "The group's leaders, including leaders of the NAACP, the National Urban\n",
      "==========\n",
      "This article was originally published in the September 2013 issue of New York Magazine.\n",
      "==========\n",
      "\n",
      "\"The only thing that would make sense is if you have someone who is an African American with African American heritage who has never been to a college,\" said Michael D. McRae, a professor at the University of California, San Francisco.\n",
      "\n",
      "McRae, who has written extensively about race and the history of the United States, has been researching the topic for more than 20 years. He joined the news media two decades ago, and his research has focused on the relationship between\n"
     ]
    }
   ],
   "source": [
    "ai.generate(n=3, max_length=100)"
   ]
  },
  {
   "cell_type": "markdown",
   "metadata": {},
   "source": [
    "You can optionally seed the input text with a `prompt`. If you do, the prompt will be bolded in the console/notebook output."
   ]
  },
  {
   "cell_type": "code",
   "execution_count": 5,
   "metadata": {},
   "outputs": [
    {
     "name": "stdout",
     "output_type": "stream",
     "text": [
      "\u001b[1mI believe in unicorns because\u001b[0m they are part of your life. They are also your own body. They are your self. They are your essence.\"\n",
      "\n",
      "-Kathleen M. Schmid, PhD, Theology Teacher\n",
      "\n",
      "\"I am not a skeptic of any kind of god, but I certainly do feel a great need to be a skeptic, and I would like to take this opportunity to write to you that I am a skeptic. I am not a god,\n",
      "==========\n",
      "\u001b[1mI believe in unicorns because\u001b[0m I've never lost a chance to get through a year of them. And I'm thinking, \"Well, I'm going to be a bit of a pessimist because I haven't really been a good skeptic about things.\"\n",
      "\n",
      "But I think my view of unicorns is pretty accurate. I don't think that is necessarily the case.\n",
      "\n",
      "I think the idea that the world is going to be so fundamentally different that it is going to change the way\n",
      "==========\n",
      "\u001b[1mI believe in unicorns because\u001b[0m they are the perfect metaphor for everything.\n",
      "\n",
      "4. A little more introspection.\n",
      "\n",
      "With all the attention I've been getting lately, I have to admit that I have been pretty busy with my personal life lately. There's been a lot of stuff I've been doing and posting lately that I'm not ready for. I do want to focus on my work and be productive. When I'm not at work or at home, I'm focused on the\n"
     ]
    }
   ],
   "source": [
    "ai.generate(n=3, max_length=100, prompt=\"I believe in unicorns because\")"
   ]
  },
  {
   "cell_type": "markdown",
   "metadata": {},
   "source": [
    "Lastly, you can generate texts in bulk using `generate_to_file()` and save them to file, allowing you search through them and curate them!\n",
    "\n",
    "You can also change the `temperature` of the text to make it less crazy...or more crazy."
   ]
  },
  {
   "cell_type": "code",
   "execution_count": 6,
   "metadata": {},
   "outputs": [
    {
     "name": "stderr",
     "output_type": "stream",
     "text": [
      "INFO:root:Generating 10 texts to ATG_20200506_035322_13582062.txt\n"
     ]
    },
    {
     "data": {
      "application/vnd.jupyter.widget-view+json": {
       "model_id": "08055273e46f4983a8042683880171ff",
       "version_major": 2,
       "version_minor": 0
      },
      "text/plain": [
       "HBox(children=(FloatProgress(value=0.0, max=10.0), HTML(value='')))"
      ]
     },
     "metadata": {},
     "output_type": "display_data"
    },
    {
     "name": "stdout",
     "output_type": "stream",
     "text": [
      "\n"
     ]
    }
   ],
   "source": [
    "ai.generate_to_file(n=10,\n",
    "                    prompt=\"I believe in unicorns because\",\n",
    "                    max_length=100, temperature=1.2)"
   ]
  },
  {
   "cell_type": "markdown",
   "metadata": {},
   "source": [
    "# MIT License\n",
    "\n",
    "Copyright (c) 2020 Max Woolf\n",
    "\n",
    "Permission is hereby granted, free of charge, to any person obtaining a copy\n",
    "of this software and associated documentation files (the \"Software\"), to deal\n",
    "in the Software without restriction, including without limitation the rights\n",
    "to use, copy, modify, merge, publish, distribute, sublicense, and/or sell\n",
    "copies of the Software, and to permit persons to whom the Software is\n",
    "furnished to do so, subject to the following conditions:\n",
    "\n",
    "The above copyright notice and this permission notice shall be included in all\n",
    "copies or substantial portions of the Software.\n",
    "\n",
    "THE SOFTWARE IS PROVIDED \"AS IS\", WITHOUT WARRANTY OF ANY KIND, EXPRESS OR\n",
    "IMPLIED, INCLUDING BUT NOT LIMITED TO THE WARRANTIES OF MERCHANTABILITY,\n",
    "FITNESS FOR A PARTICULAR PURPOSE AND NONINFRINGEMENT. IN NO EVENT SHALL THE\n",
    "AUTHORS OR COPYRIGHT HOLDERS BE LIABLE FOR ANY CLAIM, DAMAGES OR OTHER\n",
    "LIABILITY, WHETHER IN AN ACTION OF CONTRACT, TORT OR OTHERWISE, ARISING FROM,\n",
    "OUT OF OR IN CONNECTION WITH THE SOFTWARE OR THE USE OR OTHER DEALINGS IN THE\n",
    "SOFTWARE."
   ]
  }
 ],
 "metadata": {
  "kernelspec": {
   "display_name": "Python 3",
   "language": "python",
   "name": "python3"
  },
  "language_info": {
   "codemirror_mode": {
    "name": "ipython",
    "version": 3
   },
   "file_extension": ".py",
   "mimetype": "text/x-python",
   "name": "python",
   "nbconvert_exporter": "python",
   "pygments_lexer": "ipython3",
   "version": "3.6.8"
  }
 },
 "nbformat": 4,
 "nbformat_minor": 4
}
