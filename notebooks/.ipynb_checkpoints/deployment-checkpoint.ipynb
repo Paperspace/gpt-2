{
 "cells": [
  {
   "cell_type": "code",
   "execution_count": null,
   "metadata": {},
   "outputs": [],
   "source": [
    "from typing import Dict\n",
    "import uvicorn\n",
    "from fastapi import Depends, FastAPI\n",
    "from pydantic import BaseModel\n",
    "import os\n",
    "\n",
    "#app = FastAPI()\n",
    "app = FastAPI(openapi_prefix='/model-serving/'+os.getenv(\"HOSTNAME\").split('-')[0])\n",
    "\n",
    "\n",
    "class SentimentRequest(BaseModel):\n",
    "    text: str\n",
    "\n",
    "\n",
    "class SentimentResponse(BaseModel):\n",
    "    probabilities: Dict[str, float]\n",
    "    sentiment: str\n",
    "    confidence: float\n",
    "\n",
    "class HeartbeatResult(BaseModel):\n",
    "    is_alive: bool\n",
    "\n",
    "@app.post(\"/predict\", response_model=SentimentResponse)\n",
    "def predict(request: SentimentRequest, model: Model = Depends(get_model)):\n",
    "    sentiment, confidence, probabilities = model.predict(request.text)\n",
    "    return SentimentResponse(\n",
    "        sentiment=sentiment, confidence=confidence, probabilities=probabilities\n",
    "    )\n",
    "\n",
    "@app.get(\"/\", response_model=HeartbeatResult)\n",
    "def get_heartbeat()-> HeartbeatResult:\n",
    "    heartbeat = HeartbeatResult(is_alive=True)\n",
    "    return heartbeat\n",
    "\n",
    "if __name__ == \"__main__\":\n",
    "    uvicorn.run(app, log_level=\"info\")"
   ]
  },
  {
   "cell_type": "code",
   "execution_count": 1,
   "metadata": {},
   "outputs": [
    {
     "name": "stdout",
     "output_type": "stream",
     "text": [
      "Collecting fastapi\n",
      "\u001b[?25l  Downloading https://files.pythonhosted.org/packages/48/65/454fb440d48098845875b5ba8599efafee1efabb97720a584c78674e6d26/fastapi-0.61.1-py3-none-any.whl (48kB)\n",
      "\u001b[K     |████████████████████████████████| 51kB 10.5MB/s eta 0:00:01\n",
      "\u001b[?25hCollecting uvicorn\n",
      "\u001b[?25l  Downloading https://files.pythonhosted.org/packages/32/9a/5f619c02f36e751071c2b7eaa37a7c4b767feb41e4c2de48e8fbe4e7b451/uvicorn-0.11.8-py3-none-any.whl (43kB)\n",
      "\u001b[K     |████████████████████████████████| 51kB 18.6MB/s eta 0:00:01\n",
      "\u001b[?25hCollecting pydantic\n",
      "\u001b[?25l  Downloading https://files.pythonhosted.org/packages/25/69/4be0f2caa2ae3424cd34c0f934b460a02f01aa6897b1d58fc056664b15b7/pydantic-1.6.1-py36.py37.py38-none-any.whl (99kB)\n",
      "\u001b[K     |████████████████████████████████| 102kB 18.0MB/s ta 0:00:01\n",
      "\u001b[?25hCollecting starlette==0.13.6 (from fastapi)\n",
      "\u001b[?25l  Downloading https://files.pythonhosted.org/packages/c5/a4/c9e228d7d47044ce4c83ba002f28ff479e542455f0499198a3f77c94f564/starlette-0.13.6-py3-none-any.whl (59kB)\n",
      "\u001b[K     |████████████████████████████████| 61kB 21.6MB/s eta 0:00:01\n",
      "\u001b[?25hCollecting websockets==8.* (from uvicorn)\n",
      "\u001b[?25l  Downloading https://files.pythonhosted.org/packages/bb/d9/856af84843912e2853b1b6e898ac8b802989fcf9ecf8e8445a1da263bf3b/websockets-8.1-cp36-cp36m-manylinux2010_x86_64.whl (78kB)\n",
      "\u001b[K     |████████████████████████████████| 81kB 25.1MB/s eta 0:00:01\n",
      "\u001b[?25hCollecting h11<0.10,>=0.8 (from uvicorn)\n",
      "\u001b[?25l  Downloading https://files.pythonhosted.org/packages/5a/fd/3dad730b0f95e78aeeb742f96fa7bbecbdd56a58e405d3da440d5bfb90c6/h11-0.9.0-py2.py3-none-any.whl (53kB)\n",
      "\u001b[K     |████████████████████████████████| 61kB 20.5MB/s eta 0:00:01\n",
      "\u001b[?25hCollecting uvloop>=0.14.0; sys_platform != \"win32\" and sys_platform != \"cygwin\" and platform_python_implementation != \"PyPy\" (from uvicorn)\n",
      "\u001b[?25l  Downloading https://files.pythonhosted.org/packages/41/48/586225bbb02d3bdca475b17e4be5ce5b3f09da2d6979f359916c1592a687/uvloop-0.14.0-cp36-cp36m-manylinux2010_x86_64.whl (3.9MB)\n",
      "\u001b[K     |████████████████████████████████| 3.9MB 27.0MB/s eta 0:00:01\n",
      "\u001b[?25hCollecting httptools==0.1.*; sys_platform != \"win32\" and sys_platform != \"cygwin\" and platform_python_implementation != \"PyPy\" (from uvicorn)\n",
      "\u001b[?25l  Downloading https://files.pythonhosted.org/packages/b1/a6/dc1e7e8f4049ab70d52c9690ec10652e268ab2542853033cc1d539594102/httptools-0.1.1-cp36-cp36m-manylinux1_x86_64.whl (216kB)\n",
      "\u001b[K     |████████████████████████████████| 225kB 50.0MB/s eta 0:00:01\n",
      "\u001b[?25hRequirement already satisfied: click==7.* in /usr/local/lib/python3.6/dist-packages (from uvicorn) (7.1.2)\n",
      "Requirement already satisfied: dataclasses>=0.6; python_version < \"3.7\" in /usr/local/lib/python3.6/dist-packages (from pydantic) (0.7)\n",
      "Installing collected packages: starlette, pydantic, fastapi, websockets, h11, uvloop, httptools, uvicorn\n",
      "Successfully installed fastapi-0.61.1 h11-0.9.0 httptools-0.1.1 pydantic-1.6.1 starlette-0.13.6 uvicorn-0.11.8 uvloop-0.14.0 websockets-8.1\n",
      "\u001b[33mWARNING: You are using pip version 19.2.3, however version 20.2.3 is available.\n",
      "You should consider upgrading via the 'pip install --upgrade pip' command.\u001b[0m\n"
     ]
    }
   ],
   "source": [
    "!pip install fastapi uvicorn pydantic"
   ]
  },
  {
   "cell_type": "code",
   "execution_count": 3,
   "metadata": {},
   "outputs": [
    {
     "name": "stderr",
     "output_type": "stream",
     "text": [
      "WARNING:fastapi:\"openapi_prefix\" has been deprecated in favor of \"root_path\", which follows more closely the ASGI standard, is simpler, and more automatic. Check the docs at https://fastapi.tiangolo.com/advanced/sub-applications/\n",
      "INFO:aitextgen:Loading GPT-2 model from provided trained_model/pytorch_model.bin.\n",
      "INFO:aitextgen:Using the default GPT-2 Tokenizer.\n"
     ]
    },
    {
     "ename": "NameError",
     "evalue": "name 'Model' is not defined",
     "output_type": "error",
     "traceback": [
      "\u001b[0;31m---------------------------------------------------------------------------\u001b[0m",
      "\u001b[0;31mNameError\u001b[0m                                 Traceback (most recent call last)",
      "\u001b[0;32m<ipython-input-3-d74aaa00cb7f>\u001b[0m in \u001b[0;36m<module>\u001b[0;34m\u001b[0m\n\u001b[1;32m     34\u001b[0m \u001b[0;34m\u001b[0m\u001b[0m\n\u001b[1;32m     35\u001b[0m \u001b[0;34m@\u001b[0m\u001b[0mapp\u001b[0m\u001b[0;34m.\u001b[0m\u001b[0mpost\u001b[0m\u001b[0;34m(\u001b[0m\u001b[0;34m\"/predict\"\u001b[0m\u001b[0;34m,\u001b[0m \u001b[0mresponse_model\u001b[0m\u001b[0;34m=\u001b[0m\u001b[0mGPT2Response\u001b[0m\u001b[0;34m)\u001b[0m\u001b[0;34m\u001b[0m\u001b[0;34m\u001b[0m\u001b[0m\n\u001b[0;32m---> 36\u001b[0;31m \u001b[0;32mdef\u001b[0m \u001b[0mpredict\u001b[0m\u001b[0;34m(\u001b[0m\u001b[0mrequest\u001b[0m\u001b[0;34m:\u001b[0m \u001b[0mGPT2Request\u001b[0m\u001b[0;34m,\u001b[0m \u001b[0mmodel\u001b[0m\u001b[0;34m:\u001b[0m \u001b[0mModel\u001b[0m \u001b[0;34m=\u001b[0m \u001b[0mDepends\u001b[0m\u001b[0;34m(\u001b[0m\u001b[0mget_model\u001b[0m\u001b[0;34m)\u001b[0m\u001b[0;34m)\u001b[0m\u001b[0;34m:\u001b[0m\u001b[0;34m\u001b[0m\u001b[0;34m\u001b[0m\u001b[0m\n\u001b[0m\u001b[1;32m     37\u001b[0m     response = ai.generate(n=request.samples,\n\u001b[1;32m     38\u001b[0m             \u001b[0mbatch_size\u001b[0m\u001b[0;34m=\u001b[0m\u001b[0mrequest\u001b[0m\u001b[0;34m.\u001b[0m\u001b[0msamples\u001b[0m\u001b[0;34m,\u001b[0m\u001b[0;34m\u001b[0m\u001b[0;34m\u001b[0m\u001b[0m\n",
      "\u001b[0;31mNameError\u001b[0m: name 'Model' is not defined"
     ]
    }
   ],
   "source": [
    "from typing import Dict, List\n",
    "import uvicorn\n",
    "from fastapi import Depends, FastAPI\n",
    "from pydantic import BaseModel\n",
    "import os\n",
    "from aitextgen import aitextgen\n",
    "import logging\n",
    "logging.basicConfig(\n",
    "        format=\"%(asctime)s — %(levelname)s — %(name)s — %(message)s\",\n",
    "        datefmt=\"%m/%d/%Y %H:%M:%S\",\n",
    "        level=logging.INFO\n",
    "    )\n",
    "#app = FastAPI()\n",
    "app = FastAPI(openapi_prefix='/model-serving/'+os.getenv(\"HOSTNAME\").split('-')[0])\n",
    "ai = aitextgen(model=\"trained_model/pytorch_model.bin\", config=\"trained_model/config.json\", to_gpu=True)\n",
    "\n",
    "def get_model():\n",
    "    return ai\n",
    "\n",
    "class GPT2Request(BaseModel):\n",
    "    promt: str\n",
    "    samples: int = 5\n",
    "    batch_size: int = 5\n",
    "    max_length: int = 256\n",
    "    temperature: int = 1.0\n",
    "\n",
    "\n",
    "class GPT2Response(BaseModel):\n",
    "    generated: List[str]\n",
    "\n",
    "class HeartbeatResult(BaseModel):\n",
    "    is_alive: bool\n",
    "\n",
    "\n",
    "@app.post(\"/predict\", response_model=GPT2Response)\n",
    "def predict(request: GPT2Request, model = Depends(get_model)):\n",
    "    response = ai.generate(n=request.samples,\n",
    "            batch_size=request.samples,\n",
    "            prompt=request.promt,\n",
    "            max_length=256,\n",
    "            temperature=1.0,\n",
    "            top_p=0.9,\n",
    "            return_as_list=True)\n",
    "    \n",
    "    # Bold the prompt if printing to console\n",
    "    gen_texts = [\n",
    "            text.replace(prompt_text, f\"\\033[1m{prompt_text}\\033[0m\", 1)\n",
    "            for text in gen_texts\n",
    "    ]\n",
    "    print(*gen_texts, sep=\"\\n\" + \"=\" * 10 + \"\\n\")\n",
    "    return GPT2Response(\n",
    "        generated=response\n",
    "    )\n",
    "\n",
    "@app.get(\"/\", response_model=HeartbeatResult)\n",
    "def get_heartbeat()-> HeartbeatResult:\n",
    "    heartbeat = HeartbeatResult(is_alive=True)\n",
    "    return heartbeat\n",
    "\n",
    "if __name__ == \"__main__\":\n",
    "    uvicorn.run(app, log_level=\"debug\")"
   ]
  },
  {
   "cell_type": "code",
   "execution_count": null,
   "metadata": {},
   "outputs": [],
   "source": [
    "uvicorn.run(app, log_level=\"debug\")"
   ]
  }
 ],
 "metadata": {
  "kernelspec": {
   "display_name": "Python 3",
   "language": "python",
   "name": "python3"
  },
  "language_info": {
   "codemirror_mode": {
    "name": "ipython",
    "version": 3
   },
   "file_extension": ".py",
   "mimetype": "text/x-python",
   "name": "python",
   "nbconvert_exporter": "python",
   "pygments_lexer": "ipython3",
   "version": "3.6.8"
  }
 },
 "nbformat": 4,
 "nbformat_minor": 4
}
